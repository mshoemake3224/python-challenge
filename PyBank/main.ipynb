{
 "cells": [
  {
   "cell_type": "code",
   "execution_count": 2,
   "metadata": {},
   "outputs": [
    {
     "name": "stdout",
     "output_type": "stream",
     "text": [
      "Financial Analysis\n",
      " ----------------------------\n",
      "Total Months: 86\n",
      "Total: $ 38382578\n",
      "Average Change: $ -2315.1176470588234\n",
      "Greatest Increase in Profits: Feb-2012 1926159\n",
      "Greatest Decrease in Profits: Sep-2013 -2196167\n"
     ]
    }
   ],
   "source": [
    "import os\n",
    "import csv\n",
    "\n",
    "csvpath = os.path.join('..', 'PyBank',\"Resources\", 'budget_data.csv')\n",
    "\n",
    "with open(csvpath) as csvfile:\n",
    "\n",
    "    # CSV reader specifies delimiter and variable that holds contents\n",
    "    csvreader = csv.reader(csvfile, delimiter=',')\n",
    "    total = 0\n",
    "    months_total = 0\n",
    "    previous = 0\n",
    "    delta = []\n",
    "    max_num = [\"\",0]\n",
    "    min_num = [\"\",99999]\n",
    "    change = 0\n",
    "    header = next(csvreader)\n",
    "\n",
    "   # The total number of months included in the dataset\n",
    "    months_total = sum(1 for row in csvreader)\n",
    "    print (\"Financial Analysis\")\n",
    "    print (\" ----------------------------\")\n",
    "    print (\"Total Months:\" , months_total)\n",
    "\n",
    "    csvfile.seek(0)\n",
    "    next(csvreader)\n",
    "    for x in csvreader:\n",
    "    # The net total amount of \"Profit/Losses\" over the entire period\n",
    "        total = total + int(x[1])\n",
    "    \n",
    "        # The average of the changes in \"Profit/Losses\" over the entire period\n",
    "        #Create a new column called delta\n",
    "        change = int(x[1]) - previous #867884-0\n",
    "        previous = int(x[1])\n",
    "        delta.append(change) #[867884,116771]\n",
    "        length = len(delta)-1\n",
    "\n",
    "        if change > max_num[1]:\n",
    "            max_num[0] = x[0]\n",
    "            max_num[1] = change\n",
    "\n",
    "        if change < min_num[1]:\n",
    "            min_num[0] = x[0]\n",
    "            min_num[1] = change\n",
    "\n",
    "    total_average = sum(delta[1:])/length\n",
    "        #Find delta for row[1]\n",
    "        #Sum total of the delta column output\n",
    "        #take delta_sum and divide by months_total\n",
    "    print (\"Total: $\" , total)\n",
    "    #print (delta)\n",
    "    print(\"Average Change: $\" , total_average)\n",
    "\n",
    "    # The greatest increase in profits (date and amount) over the entire period\n",
    "    #Inside of new column delta locate the maximum\n",
    "    print(\"Greatest Increase in Profits:\" , max_num[0],max_num[1])\n",
    "   \n",
    "    # The greatest decrease in losses (date and amount) over the entire period\n",
    "    #Inside of new column delta locate the minimum\n",
    "    print(\"Greatest Decrease in Profits:\" , min_num[0],min_num[1])"
   ]
  }
 ],
 "metadata": {
  "kernelspec": {
   "display_name": "Python 3",
   "language": "python",
   "name": "python3"
  },
  "language_info": {
   "codemirror_mode": {
    "name": "ipython",
    "version": 3
   },
   "file_extension": ".py",
   "mimetype": "text/x-python",
   "name": "python",
   "nbconvert_exporter": "python",
   "pygments_lexer": "ipython3",
   "version": "3.7.6"
  }
 },
 "nbformat": 4,
 "nbformat_minor": 4
}
